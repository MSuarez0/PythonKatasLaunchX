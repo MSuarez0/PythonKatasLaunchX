{
 "cells": [
  {
   "cell_type": "markdown",
   "metadata": {},
   "source": [
    "# Kata 5\n",
    "## Ejercicio 1"
   ]
  },
  {
   "cell_type": "code",
   "execution_count": 12,
   "metadata": {},
   "outputs": [
    {
     "name": "stdout",
     "output_type": "stream",
     "text": [
      "La distancia entra los planetas en Kilometros es 628949330\n",
      "La distancia entra los planetas en Millas es 390577534\n"
     ]
    }
   ],
   "source": [
    "planeta1 = 149597870\n",
    "planeta2 = 778547200\n",
    "\n",
    "DistanciaKM = planeta1 - planeta2\n",
    "\n",
    "DistanciaMI = DistanciaKM*0.621\n",
    "\n",
    "print(\"La distancia entra los planetas en Kilometros es\", round(abs(DistanciaKM)))\n",
    "print(\"La distancia entra los planetas en Millas es\", round(abs(DistanciaMI)))"
   ]
  },
  {
   "cell_type": "markdown",
   "metadata": {},
   "source": [
    "## Ejercicio 2"
   ]
  },
  {
   "cell_type": "code",
   "execution_count": null,
   "metadata": {},
   "outputs": [],
   "source": [
    "planeta1 = int(input(\"Introducir la Primera Dsitancia\"))\n",
    "planeta2 = int(input(\"Introducir la Segunda Dsitancia\"))\n",
    "\n",
    "DistanciaKM = planeta1 - planeta2\n",
    "\n",
    "DistanciaMI = DistanciaKM*0.621\n",
    "\n",
    "print(\"La distancia entra los planetas en Kilometros es\", round(abs(DistanciaKM)))\n",
    "print(\"La distancia entra los planetas en Millas es\", round(abs(DistanciaMI)))\n",
    "\n"
   ]
  }
 ],
 "metadata": {
  "interpreter": {
   "hash": "aee8b7b246df8f9039afb4144a1f6fd8d2ca17a180786b69acc140d282b71a49"
  },
  "kernelspec": {
   "display_name": "Python 3.10.2 64-bit",
   "language": "python",
   "name": "python3"
  },
  "language_info": {
   "codemirror_mode": {
    "name": "ipython",
    "version": 3
   },
   "file_extension": ".py",
   "mimetype": "text/x-python",
   "name": "python",
   "nbconvert_exporter": "python",
   "pygments_lexer": "ipython3",
   "version": "3.10.2"
  },
  "orig_nbformat": 4
 },
 "nbformat": 4,
 "nbformat_minor": 2
}
