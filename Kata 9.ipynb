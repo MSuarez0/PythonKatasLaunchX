{
 "cells": [
  {
   "cell_type": "markdown",
   "metadata": {},
   "source": [
    "# Ejemplo 1"
   ]
  },
  {
   "cell_type": "code",
   "execution_count": 8,
   "metadata": {},
   "outputs": [
    {
     "name": "stdout",
     "output_type": "stream",
     "text": [
      " Informe de los tanques es:\n",
      "    Total de los tanques es 43.333333333333336%\n",
      "    Tanque 1: 80% \n",
      "    Tanque 2: 10%\n",
      "    Tanque 3: 40% \n"
     ]
    }
   ],
   "source": [
    "tanque1= int(input(\"introduce el valor del tanque 1\"))\n",
    "tanque2= int(input(\"Introduce el valor del tanque 2\"))\n",
    "tanque3= int(input(\"Introduce el valor del tanque 2\"))\n",
    "\n",
    "def informe(tanque1,tanque2,tanque3):\n",
    "    total_taque= (tanque1+tanque2+tanque3)/3\n",
    "    return f\"\"\" Informe de los tanques es:\n",
    "    Total de los tanques es {total_taque}%\n",
    "    Tanque 1: {tanque1}% \n",
    "    Tanque 2: {tanque2}%\n",
    "    Tanque 3: {tanque3}% \"\"\"\n",
    "\n",
    "print(informe(tanque1, tanque2, tanque3))"
   ]
  },
  {
   "cell_type": "markdown",
   "metadata": {},
   "source": [
    "### Ejercicio 1: parte 2"
   ]
  },
  {
   "cell_type": "code",
   "execution_count": 11,
   "metadata": {},
   "outputs": [
    {
     "name": "stdout",
     "output_type": "stream",
     "text": [
      " Informe de los tanques es:\n",
      "    Total de los tanques es 96.66666666666667%\n",
      "    Tanque 1: 100% \n",
      "    Tanque 2: 100%\n",
      "    Tanque 3: 90% \n"
     ]
    }
   ],
   "source": [
    "tanque1= int(input(\"introduce el valor del tanque 1\"))\n",
    "tanque2= int(input(\"Introduce el valor del tanque 2\"))\n",
    "tanque3= int(input(\"Introduce el valor del tanque 2\"))\n",
    "\n",
    "def informe(tanque1,tanque2,tanque3):\n",
    "    return f\"\"\" Informe de los tanques es:\n",
    "    Total de los tanques es {promedio([tanque1,tanque2,tanque3])}%\n",
    "    Tanque 1: {tanque1}% \n",
    "    Tanque 2: {tanque2}%\n",
    "    Tanque 3: {tanque3}% \"\"\"\n",
    "\n",
    "def promedio(values):\n",
    "    total_promedio=(tanque1+tanque2+tanque3)/len(values)\n",
    "    return total_promedio\n",
    "\n",
    "\n",
    "print(informe(tanque1, tanque2, tanque3))"
   ]
  },
  {
   "cell_type": "markdown",
   "metadata": {},
   "source": [
    "# Ejercicio 2"
   ]
  },
  {
   "cell_type": "markdown",
   "metadata": {},
   "source": [
    "## Ejercicio 2 Parte 1"
   ]
  },
  {
   "cell_type": "code",
   "execution_count": 21,
   "metadata": {},
   "outputs": [
    {
     "name": "stdout",
     "output_type": "stream",
     "text": [
      "\n",
      "    Mission to Venus\n",
      "    Total travel time: 100 minutes\n",
      "    Total fuel left: 1700000 gallons\n",
      "    \n"
     ]
    }
   ],
   "source": [
    "def mission_report(lanzamiento, tiempo, destino, tanque2, tanque1):\n",
    "    return f\"\"\"\n",
    "    Mission to {destino}\n",
    "    Total travel time: {lanzamiento + tiempo} minutes\n",
    "    Total fuel left: {tanque2 + tanque1} gallons\n",
    "    \"\"\"\n",
    "\n",
    "print(mission_report(25, 75, \"Venus\", 900000, 800000))"
   ]
  },
  {
   "cell_type": "markdown",
   "metadata": {},
   "source": [
    "## Ejercicio 2 Parte 2"
   ]
  },
  {
   "cell_type": "code",
   "execution_count": 18,
   "metadata": {},
   "outputs": [
    {
     "name": "stdout",
     "output_type": "stream",
     "text": [
      "\n",
      "    Mision a Marte\n",
      "    Total del viaje: 95 minutes\n",
      "    Gasolina restante: 900000\n",
      "    \n"
     ]
    }
   ],
   "source": [
    "def mission_report(destination, *minutos, **gasolina):\n",
    "    return f\"\"\"\n",
    "    Mision a {destination}\n",
    "    Total del viaje: {sum(minutos)} minutes\n",
    "    Gasolina restante: {sum(gasolina.values())}\n",
    "    \"\"\"\n",
    "\n",
    "print(mission_report(\"Marte\", 30, 40, 25, main=500000, external=400000))"
   ]
  },
  {
   "cell_type": "markdown",
   "metadata": {},
   "source": [
    "## Ejercicio 2 Parte 3"
   ]
  },
  {
   "cell_type": "code",
   "execution_count": 20,
   "metadata": {},
   "outputs": [
    {
     "name": "stdout",
     "output_type": "stream",
     "text": [
      "\n",
      "    Mision a Jupiter\n",
      "    Total del viaje: 56 minutes\n",
      "    Gasolina restante: 1300000\n",
      "    main tank --> 600000 gallons left\n",
      "external tank --> 700000 gallons left\n",
      "\n"
     ]
    }
   ],
   "source": [
    "def mission_report(destination, *minutos, **gasolina):\n",
    "    main_report = f\"\"\"\n",
    "    Mision a {destination}\n",
    "    Total del viaje: {sum(minutos)} minutes\n",
    "    Gasolina restante: {sum(gasolina.values())}\n",
    "    \"\"\"\n",
    "    for tank_name, gallons in gasolina.items():\n",
    "        main_report += f\"{tank_name} tank --> {gallons} gallons left\\n\"\n",
    "    return main_report\n",
    "\n",
    "print(mission_report(\"Jupiter\", 3, 8, 45, main=600000, external=700000))"
   ]
  }
 ],
 "metadata": {
  "interpreter": {
   "hash": "aee8b7b246df8f9039afb4144a1f6fd8d2ca17a180786b69acc140d282b71a49"
  },
  "kernelspec": {
   "display_name": "Python 3.10.2 64-bit",
   "language": "python",
   "name": "python3"
  },
  "language_info": {
   "codemirror_mode": {
    "name": "ipython",
    "version": 3
   },
   "file_extension": ".py",
   "mimetype": "text/x-python",
   "name": "python",
   "nbconvert_exporter": "python",
   "pygments_lexer": "ipython3",
   "version": "3.10.2"
  },
  "orig_nbformat": 4
 },
 "nbformat": 4,
 "nbformat_minor": 2
}
